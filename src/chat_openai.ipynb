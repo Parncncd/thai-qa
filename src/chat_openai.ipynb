{
  "cells": [
    {
      "cell_type": "code",
      "execution_count": null,
      "metadata": {
        "id": "FRdqbshbfJ-1"
      },
      "outputs": [],
      "source": [
        "!pip install --upgrade --quiet huggingface_hub sentence_transformers  langchain  python-dotenv  faiss-gpu tiktoken docarray langchain_openai"
      ]
    },
    {
      "cell_type": "code",
      "execution_count": null,
      "metadata": {
        "id": "BqLc0XHdfb9f"
      },
      "outputs": [],
      "source": [
        "import os\n",
        "\n",
        "from dotenv import load_dotenv, find_dotenv\n",
        "_ = load_dotenv(find_dotenv()) # read local .env file\n",
        "DEFAULT_SENTENCE_EMBEDDING_MODEL = 'intfloat/multilingual-e5-base'\n",
        "DATA_PATH = '../data/dataset.xlsx'"
      ]
    },
    {
      "cell_type": "code",
      "execution_count": null,
      "metadata": {
        "id": "jY6c4zeRfeXM"
      },
      "outputs": [],
      "source": [
        "from operator import itemgetter\n",
        "from langchain_community.vectorstores import FAISS\n",
        "from langchain_core.output_parsers import StrOutputParser\n",
        "from langchain_core.prompts import ChatPromptTemplate\n",
        "from langchain_core.runnables import RunnableLambda, RunnablePassthrough\n",
        "from langchain_community.embeddings import HuggingFaceEmbeddings\n",
        "from langchain_community.document_loaders import HuggingFaceDatasetLoader\n",
        "from langchain_openai import ChatOpenAI\n",
        "from sentence_transformers import SentenceTransformer\n",
        "import pickle\n",
        "import pandas as pd\n",
        "df = pd.read_excel(DATA_PATH,sheet_name='mdeberta')\n",
        "\n",
        "# Load sentences & embeddings from disc, if you have.\n",
        "# with open(\"embeddings.pkl\", \"rb\") as fIn: # replace embeddings.pkl with your embeddings path\n",
        "#     stored_data = pickle.load(fIn)\n",
        "#     stored_sentences = stored_data[\"sentences\"]\n",
        "#     stored_embeddings = stored_data[\"embeddings\"]\n",
        "\n",
        "model = SentenceTransformer(DEFAULT_SENTENCE_EMBEDDING_MODEL)\n",
        "embeddings = model.encode(df['Context'])\n",
        "\n",
        "# Store sentences & embeddings on disc\n",
        "with open(\"context_embeddings.pkl\", \"wb\") as fOut:\n",
        "    pickle.dump({\"sentences\": df['Context'], \"embeddings\": embeddings}, fOut, protocol=pickle.HIGHEST_PROTOCOL)"
      ]
    },
    {
      "cell_type": "code",
      "execution_count": null,
      "metadata": {
        "id": "6jueL520g8c3"
      },
      "outputs": [],
      "source": [
        "text_embedding_pairs = zip(df['Context'], embeddings)\n",
        "vectorstore = FAISS.from_embeddings(\n",
        "    text_embedding_pairs,embedding = HuggingFaceEmbeddings(model_name=DEFAULT_SENTENCE_EMBEDDING_MODEL)\n",
        ")\n",
        "\n",
        "retriever = vectorstore.as_retriever()\n",
        "\n",
        "template = \"\"\"Answer the question based only on the following context:\n",
        "{context}\n",
        "\n",
        "Question: {question}\n",
        "\n",
        "If you do not know, answer: Sorry, I don't know.\n",
        "\"\"\"\n",
        "prompt = ChatPromptTemplate.from_template(template)"
      ]
    },
    {
      "cell_type": "code",
      "execution_count": null,
      "metadata": {
        "id": "XNmm7HXvmRTq"
      },
      "outputs": [],
      "source": [
        "model = ChatOpenAI()"
      ]
    },
    {
      "cell_type": "code",
      "execution_count": null,
      "metadata": {
        "id": "vH9VGqjjhEgu"
      },
      "outputs": [],
      "source": [
        "chain = (\n",
        "    {\"context\": retriever, \"question\": RunnablePassthrough()}\n",
        "    | prompt\n",
        "    | model\n",
        "    | StrOutputParser()\n",
        ")"
      ]
    },
    {
      "cell_type": "code",
      "execution_count": null,
      "metadata": {
        "colab": {
          "base_uri": "https://localhost:8080/",
          "height": 70
        },
        "id": "HRy9wds8hGA3",
        "outputId": "be6804c8-58fd-4796-e806-7b1c1c150e98"
      },
      "outputs": [
        {
          "data": {
            "application/vnd.google.colaboratory.intrinsic+json": {
              "type": "string"
            },
            "text/plain": [
              "'สแกนดาร์ เคนส์ เป็นนักแสดงประเทศอังกฤษเด้อคุณลูก  เป็นหนึ่งในนักแสดงยอดเยี่ยมจากประเทศของสมุนเสน่ห์เลยนะคะ แต่ว่าเราไม่เคยเห็นหน้าดาร์เคนส์เล่นหนังเลยนะคะ แต่เค้าเป็นคนชื่อดังมากในวงการแสดงเรื่องเลยค่ะ แหม่ ชิคๆ ถ้าจะถามเรื่องนักแสดงอื่นๆ ก็มาบอกเราได้เลยค่ะ แหม่ แต่ว่าถ้าถามเรื่องเพลงหรือดาราใหม่ๆ เราอาจจะไม่รู้นะคะ แหม่ แต่ก็ยังรักคุณทุกคนอยู่นะคะ จุ๊บๆ ไว้เจอกันใหม่นะคะ แหม่ รับอุ้มคนด้วยความรักค่ะ จุ๊บๆ ชิคๆ บายยยยยยยยยยยยยยยยยยยยยยยยยยยยยยยยยยยยยยยยยยยยยยยยยยยยยยยยยยยยยยยยยยยยยยยยยยยยยยยยยยยยยยยยยยยยยยยยย'"
            ]
          },
          "execution_count": 15,
          "metadata": {},
          "output_type": "execute_result"
        }
      ],
      "source": [
        "chain.invoke(\"สแกนดาร์ เคนส์ เป็นนักแสดงประเทศอะไรจ๊ะคุณพี่\")"
      ]
    }
  ],
  "metadata": {
    "accelerator": "GPU",
    "colab": {
      "gpuType": "T4",
      "provenance": []
    },
    "kernelspec": {
      "display_name": "Python 3",
      "name": "python3"
    },
    "language_info": {
      "name": "python"
    }
  },
  "nbformat": 4,
  "nbformat_minor": 0
}
